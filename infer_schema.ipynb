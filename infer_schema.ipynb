{
 "cells": [
  {
   "cell_type": "code",
   "execution_count": 2,
   "metadata": {
    "collapsed": true,
    "pycharm": {
     "name": "#%%\n"
    }
   },
   "outputs": [
    {
     "data": {
      "text/plain": "<IPython.core.display.HTML object>",
      "text/html": "Finishing last run (ID:1g5ygf1b) before initializing another..."
     },
     "metadata": {},
     "output_type": "display_data"
    },
    {
     "data": {
      "text/plain": "<IPython.core.display.HTML object>",
      "text/html": "Waiting for W&B process to finish... <strong style=\"color:green\">(success).</strong>"
     },
     "metadata": {},
     "output_type": "display_data"
    },
    {
     "data": {
      "text/plain": "VBox(children=(Label(value='0.001 MB of 0.001 MB uploaded (0.000 MB deduped)\\r'), FloatProgress(value=1.0, max…",
      "application/vnd.jupyter.widget-view+json": {
       "version_major": 2,
       "version_minor": 0,
       "model_id": "8093100a43c044fb996d7f6bf975abbb"
      }
     },
     "metadata": {},
     "output_type": "display_data"
    },
    {
     "data": {
      "text/plain": "<IPython.core.display.HTML object>",
      "text/html": "Synced <strong style=\"color:#cdcd00\">polar-planet-27</strong>: <a href=\"https://wandb.ai/phamvanhanh6720/mlops-test/runs/1g5ygf1b\" target=\"_blank\">https://wandb.ai/phamvanhanh6720/mlops-test/runs/1g5ygf1b</a><br/>Synced 5 W&B file(s), 0 media file(s), 0 artifact file(s) and 0 other file(s)"
     },
     "metadata": {},
     "output_type": "display_data"
    },
    {
     "data": {
      "text/plain": "<IPython.core.display.HTML object>",
      "text/html": "Find logs at: <code>./wandb/run-20220603_002146-1g5ygf1b/logs</code>"
     },
     "metadata": {},
     "output_type": "display_data"
    },
    {
     "data": {
      "text/plain": "<IPython.core.display.HTML object>",
      "text/html": "Successfully finished last run (ID:1g5ygf1b). Initializing new run:<br/>"
     },
     "metadata": {},
     "output_type": "display_data"
    },
    {
     "data": {
      "text/plain": "<IPython.core.display.HTML object>",
      "text/html": "Tracking run with wandb version 0.12.17"
     },
     "metadata": {},
     "output_type": "display_data"
    },
    {
     "data": {
      "text/plain": "<IPython.core.display.HTML object>",
      "text/html": "Run data is saved locally in <code>/home/phamvanhanh/PycharmProjects/MLOps-Capstone-Project/wandb/run-20220603_003202-3uuw7bcv</code>"
     },
     "metadata": {},
     "output_type": "display_data"
    },
    {
     "data": {
      "text/plain": "<IPython.core.display.HTML object>",
      "text/html": "Syncing run <strong><a href=\"https://wandb.ai/phamvanhanh6720/mlops-test/runs/3uuw7bcv\" target=\"_blank\">laced-wildflower-3</a></strong> to <a href=\"https://wandb.ai/phamvanhanh6720/mlops-test\" target=\"_blank\">Weights & Biases</a> (<a href=\"https://wandb.me/run\" target=\"_blank\">docs</a>)<br/>"
     },
     "metadata": {},
     "output_type": "display_data"
    },
    {
     "data": {
      "text/plain": "<IPython.core.display.HTML object>",
      "text/html": "Waiting for W&B process to finish... <strong style=\"color:green\">(success).</strong>"
     },
     "metadata": {},
     "output_type": "display_data"
    },
    {
     "data": {
      "text/plain": "VBox(children=(Label(value='0.011 MB of 0.011 MB uploaded (0.000 MB deduped)\\r'), FloatProgress(value=1.0, max…",
      "application/vnd.jupyter.widget-view+json": {
       "version_major": 2,
       "version_minor": 0,
       "model_id": "f83fe211d0a14c82ba304c724db1745f"
      }
     },
     "metadata": {},
     "output_type": "display_data"
    },
    {
     "data": {
      "text/plain": "<IPython.core.display.HTML object>",
      "text/html": "Synced <strong style=\"color:#cdcd00\">laced-wildflower-3</strong>: <a href=\"https://wandb.ai/phamvanhanh6720/mlops-test/runs/3uuw7bcv\" target=\"_blank\">https://wandb.ai/phamvanhanh6720/mlops-test/runs/3uuw7bcv</a><br/>Synced 4 W&B file(s), 0 media file(s), 3 artifact file(s) and 0 other file(s)"
     },
     "metadata": {},
     "output_type": "display_data"
    },
    {
     "data": {
      "text/plain": "<IPython.core.display.HTML object>",
      "text/html": "Find logs at: <code>./wandb/run-20220603_003202-3uuw7bcv/logs</code>"
     },
     "metadata": {},
     "output_type": "display_data"
    }
   ],
   "source": [
    "# 1. Log a dataset version as an artifact\n",
    "import os\n",
    "import wandb\n",
    "import pandas as pd\n",
    "import tensorflow_data_validation as tfdv\n",
    "from sklearn.model_selection import train_test_split\n",
    "\n",
    "from components.data_extraction import fetch_data\n",
    "# Initialize a new W&B run to track this job\n",
    "run = wandb.init(project=\"mlops-test\", job_type=\"infer-schema\")\n",
    "\n",
    "# Create a sample dataset to log as an artifact\n",
    "artifact = run.use_artifact('raw-dataset:latest')\n",
    "artifact_data = artifact.get(\"raw-dataset\")\n",
    "df = pd.DataFrame(columns=artifact_data.columns, data=artifact_data.data)\n",
    "\n",
    "df = df.loc[df['external_color'] != '-']\n",
    "df = df.loc[df['internal_color'] != '-']\n",
    "df = df.loc[df['fuels'] != '-']\n",
    "df = df.loc[df['gearbox'] != '-']\n",
    "df = df.loc[df['wheel_drive'] != '']\n",
    "df = df.loc[df['wheel_drive'] != '4WD hoặc AWD']\n",
    "\n",
    "df.drop(['_id', 'title', 'url', 'post_date'], axis=1, inplace=True)\n",
    "train_df, test_df = train_test_split(df, train_size=0.9, shuffle=True, random_state=43, stratify=df['branch'])\n",
    "train_stats = tfdv.generate_statistics_from_dataframe(dataframe=train_df)\n",
    "schema = tfdv.infer_schema(statistics=train_stats)\n",
    "schema_df_result = tfdv.utils.display_util.get_schema_dataframe(schema=schema)\n",
    "\n",
    "# log schema\n",
    "artifact = wandb.Artifact('categorical-schema', type='Schema')\n",
    "categorical_schema = schema_df_result[1].reset_index()\n",
    "schema_table = wandb.Table(data=categorical_schema, columns=categorical_schema.columns)\n",
    "artifact.add(schema_table, 'categorical-schema-table')\n",
    "run.log_artifact(artifact)\n",
    "\n",
    "artifact = wandb.Artifact('data-schema', type='Schema')\n",
    "data_schema = schema_df_result[0].reset_index()\n",
    "schema_table = wandb.Table(data=data_schema, columns=data_schema.columns)\n",
    "artifact.add(schema_table, 'data-schema-table')\n",
    "run.log_artifact(artifact)\n",
    "\n",
    "tfdv.write_schema_text(schema=schema, output_path=os.path.join('artifacts_raw/schema.txt'))\n",
    "artifact = wandb.Artifact('text-schema', type='Schema')\n",
    "artifact.add_file(os.path.join('artifacts_raw/schema.txt'))\n",
    "run.log_artifact(artifact)\n",
    "\n",
    "wandb.finish()"
   ]
  },
  {
   "cell_type": "code",
   "execution_count": 4,
   "outputs": [
    {
     "data": {
      "text/plain": "<IPython.core.display.HTML object>",
      "text/html": "Finishing last run (ID:3baq7kxh) before initializing another..."
     },
     "metadata": {},
     "output_type": "display_data"
    },
    {
     "data": {
      "text/plain": "<IPython.core.display.HTML object>",
      "text/html": "Waiting for W&B process to finish... <strong style=\"color:green\">(success).</strong>"
     },
     "metadata": {},
     "output_type": "display_data"
    },
    {
     "data": {
      "text/plain": "VBox(children=(Label(value='0.001 MB of 0.001 MB uploaded (0.000 MB deduped)\\r'), FloatProgress(value=1.0, max…",
      "application/vnd.jupyter.widget-view+json": {
       "version_major": 2,
       "version_minor": 0,
       "model_id": "ae3cbe45d96d4fbaae4aa2ddbe4c01a0"
      }
     },
     "metadata": {},
     "output_type": "display_data"
    },
    {
     "data": {
      "text/plain": "<IPython.core.display.HTML object>",
      "text/html": "Synced <strong style=\"color:#cdcd00\">dulcet-wildflower-4</strong>: <a href=\"https://wandb.ai/phamvanhanh6720/mlops-test/runs/3baq7kxh\" target=\"_blank\">https://wandb.ai/phamvanhanh6720/mlops-test/runs/3baq7kxh</a><br/>Synced 5 W&B file(s), 0 media file(s), 0 artifact file(s) and 0 other file(s)"
     },
     "metadata": {},
     "output_type": "display_data"
    },
    {
     "data": {
      "text/plain": "<IPython.core.display.HTML object>",
      "text/html": "Find logs at: <code>./wandb/run-20220603_010459-3baq7kxh/logs</code>"
     },
     "metadata": {},
     "output_type": "display_data"
    },
    {
     "data": {
      "text/plain": "<IPython.core.display.HTML object>",
      "text/html": "Successfully finished last run (ID:3baq7kxh). Initializing new run:<br/>"
     },
     "metadata": {},
     "output_type": "display_data"
    },
    {
     "data": {
      "text/plain": "<IPython.core.display.HTML object>",
      "text/html": "Tracking run with wandb version 0.12.17"
     },
     "metadata": {},
     "output_type": "display_data"
    },
    {
     "data": {
      "text/plain": "<IPython.core.display.HTML object>",
      "text/html": "Run data is saved locally in <code>/home/phamvanhanh/PycharmProjects/MLOps-Capstone-Project/wandb/run-20220603_010513-3att2k03</code>"
     },
     "metadata": {},
     "output_type": "display_data"
    },
    {
     "data": {
      "text/plain": "<IPython.core.display.HTML object>",
      "text/html": "Syncing run <strong><a href=\"https://wandb.ai/phamvanhanh6720/mlops-test/runs/3att2k03\" target=\"_blank\">splendid-blaze-5</a></strong> to <a href=\"https://wandb.ai/phamvanhanh6720/mlops-test\" target=\"_blank\">Weights & Biases</a> (<a href=\"https://wandb.me/run\" target=\"_blank\">docs</a>)<br/>"
     },
     "metadata": {},
     "output_type": "display_data"
    }
   ],
   "source": [
    "run = wandb.init(project=\"mlops-test\", job_type=\"download-schema\")\n",
    "\n",
    "# Pull down that dataset you logged in the last run\n",
    "artifact = run.use_artifact('text-schema:latest')\n",
    "artifact_text = artifact.get('schema')"
   ],
   "metadata": {
    "collapsed": false,
    "pycharm": {
     "name": "#%%\n"
    }
   }
  },
  {
   "cell_type": "code",
   "execution_count": 10,
   "outputs": [],
   "source": [
    "artifact_text = artifact.get('schema.txt')"
   ],
   "metadata": {
    "collapsed": false,
    "pycharm": {
     "name": "#%%\n"
    }
   }
  },
  {
   "cell_type": "code",
   "execution_count": 6,
   "outputs": [],
   "source": [
    "artifact_dir = artifact.download()"
   ],
   "metadata": {
    "collapsed": false,
    "pycharm": {
     "name": "#%%\n"
    }
   }
  },
  {
   "cell_type": "code",
   "execution_count": 12,
   "outputs": [],
   "source": [
    "schema = tfdv.load_schema_text(os.path.join(artifact_dir, 'schema.txt'))"
   ],
   "metadata": {
    "collapsed": false,
    "pycharm": {
     "name": "#%%\n"
    }
   }
  },
  {
   "cell_type": "code",
   "execution_count": 11,
   "outputs": [],
   "source": [
    "artifact_text"
   ],
   "metadata": {
    "collapsed": false,
    "pycharm": {
     "name": "#%%\n"
    }
   }
  },
  {
   "cell_type": "code",
   "execution_count": 13,
   "outputs": [
    {
     "data": {
      "text/plain": "                     Type  Presence Valency            Domain\nFeature name                                                 \n'year'                INT  required                         -\n'price'               INT  required                         -\n'location'         STRING  required                'location'\n'branch'           STRING  required                  'branch'\n'model'             BYTES  required                         -\n'origin'           STRING  required                  'origin'\n'km_driven'           INT  required                         -\n'external_color'   STRING  required          'external_color'\n'internal_color'   STRING  required          'internal_color'\n'num_seats'           INT  required                         -\n'fuels'            STRING  required                   'fuels'\n'engine_capacity'   FLOAT  optional  single                 -\n'gearbox'          STRING  required                 'gearbox'\n'wheel_drive'      STRING  required             'wheel_drive'\n'car_type'         STRING  required                'car_type'",
      "text/html": "<div>\n<style scoped>\n    .dataframe tbody tr th:only-of-type {\n        vertical-align: middle;\n    }\n\n    .dataframe tbody tr th {\n        vertical-align: top;\n    }\n\n    .dataframe thead th {\n        text-align: right;\n    }\n</style>\n<table border=\"1\" class=\"dataframe\">\n  <thead>\n    <tr style=\"text-align: right;\">\n      <th></th>\n      <th>Type</th>\n      <th>Presence</th>\n      <th>Valency</th>\n      <th>Domain</th>\n    </tr>\n    <tr>\n      <th>Feature name</th>\n      <th></th>\n      <th></th>\n      <th></th>\n      <th></th>\n    </tr>\n  </thead>\n  <tbody>\n    <tr>\n      <th>'year'</th>\n      <td>INT</td>\n      <td>required</td>\n      <td></td>\n      <td>-</td>\n    </tr>\n    <tr>\n      <th>'price'</th>\n      <td>INT</td>\n      <td>required</td>\n      <td></td>\n      <td>-</td>\n    </tr>\n    <tr>\n      <th>'location'</th>\n      <td>STRING</td>\n      <td>required</td>\n      <td></td>\n      <td>'location'</td>\n    </tr>\n    <tr>\n      <th>'branch'</th>\n      <td>STRING</td>\n      <td>required</td>\n      <td></td>\n      <td>'branch'</td>\n    </tr>\n    <tr>\n      <th>'model'</th>\n      <td>BYTES</td>\n      <td>required</td>\n      <td></td>\n      <td>-</td>\n    </tr>\n    <tr>\n      <th>'origin'</th>\n      <td>STRING</td>\n      <td>required</td>\n      <td></td>\n      <td>'origin'</td>\n    </tr>\n    <tr>\n      <th>'km_driven'</th>\n      <td>INT</td>\n      <td>required</td>\n      <td></td>\n      <td>-</td>\n    </tr>\n    <tr>\n      <th>'external_color'</th>\n      <td>STRING</td>\n      <td>required</td>\n      <td></td>\n      <td>'external_color'</td>\n    </tr>\n    <tr>\n      <th>'internal_color'</th>\n      <td>STRING</td>\n      <td>required</td>\n      <td></td>\n      <td>'internal_color'</td>\n    </tr>\n    <tr>\n      <th>'num_seats'</th>\n      <td>INT</td>\n      <td>required</td>\n      <td></td>\n      <td>-</td>\n    </tr>\n    <tr>\n      <th>'fuels'</th>\n      <td>STRING</td>\n      <td>required</td>\n      <td></td>\n      <td>'fuels'</td>\n    </tr>\n    <tr>\n      <th>'engine_capacity'</th>\n      <td>FLOAT</td>\n      <td>optional</td>\n      <td>single</td>\n      <td>-</td>\n    </tr>\n    <tr>\n      <th>'gearbox'</th>\n      <td>STRING</td>\n      <td>required</td>\n      <td></td>\n      <td>'gearbox'</td>\n    </tr>\n    <tr>\n      <th>'wheel_drive'</th>\n      <td>STRING</td>\n      <td>required</td>\n      <td></td>\n      <td>'wheel_drive'</td>\n    </tr>\n    <tr>\n      <th>'car_type'</th>\n      <td>STRING</td>\n      <td>required</td>\n      <td></td>\n      <td>'car_type'</td>\n    </tr>\n  </tbody>\n</table>\n</div>"
     },
     "metadata": {},
     "output_type": "display_data"
    },
    {
     "name": "stderr",
     "output_type": "stream",
     "text": [
      "/home/phamvanhanh/.virtualenvs/MLOps-Capstone-Project/lib/python3.6/site-packages/tensorflow_data_validation/utils/display_util.py:180: FutureWarning: Passing a negative integer is deprecated in version 1.0 and will not be supported in future version. Instead, use None to not limit the column width.\n",
      "  pd.set_option('max_colwidth', -1)\n"
     ]
    },
    {
     "data": {
      "text/plain": "                                                                                                                                                                                                                                                                                                                                                                                                                                                                                                                                                                                                                                                                                                                                                                                                                           Values\nDomain                                                                                                                                                                                                                                                                                                                                                                                                                                                                                                                                                                                                                                                                                                                                                                                                                           \n'location'        'An Giang', 'Bà Rịa Vũng Tàu', 'Bình Dương', 'Bình Phước', 'Bình Thuận', 'Bình Định', 'Bạc Liêu', 'Bắc Giang', 'Bắc Kạn', 'Bắc Ninh', 'Bến Tre', 'Cao Bằng', 'Cà Mau', 'Cần Thơ', 'Gia Lai', 'Hà Giang', 'Hà Nam', 'Hà Nội', 'Hà Tĩnh', 'Hòa Bình', 'Hưng Yên', 'Hải Dương', 'Hải Phòng', 'Hậu Giang', 'Khánh Hòa', 'Kiên Giang', 'Kon Tum', 'Lai Châu', 'Long An', 'Lào Cai', 'Lâm Đồng', 'Lạng Sơn', 'Nam Định', 'Nghệ An', 'Ninh Bình', 'Ninh Thuận', 'Phú Thọ', 'Phú Yên', 'Quảng Bình', 'Quảng Nam', 'Quảng Ngãi', 'Quảng Ninh', 'Quảng Trị', 'Sóc Trăng', 'Sơn La', 'TP HCM', 'Thanh Hóa', 'Thái Bình', 'Thái Nguyên', 'Thừa Thiên Huế', 'Tiền Giang', 'Trà Vinh', 'Tuyên Quang', 'Tây Ninh', 'Vĩnh Long', 'Vĩnh Phúc', 'Yên Bái', 'Điện Biên', 'Đà Nẵng', 'Đăk Lăk', 'Đăk Nông', 'Đồng Nai', 'Đồng Tháp'\n'branch'          'Acura', 'Audi', 'BMW', 'Chevrolet', 'Daewoo', 'Ford', 'Honda', 'Hyundai', 'Isuzu', 'Kia', 'LandRover', 'Lexus', 'MG', 'Mazda', 'Mercedes Benz', 'Mini', 'Mitsubishi', 'Nissan', 'Peugeot', 'Porsche', 'Subaru', 'Suzuki', 'Toyota', 'VinFast', 'Volkswagen', 'Volvo'                                                                                                                                                                                                                                                                                                                                                                                                                                                                                                                                          \n'origin'          'domestic', 'imported'                                                                                                                                                                                                                                                                                                                                                                                                                                                                                                                                                                                                                                                                                                                                                                                         \n'external_color'  'Bạc', 'Cam', 'Cát', 'Ghi', 'Hồng', 'Kem', 'Màu khác', 'Nhiều màu', 'Nâu', 'Trắng', 'Tím', 'Vàng', 'Xanh', 'Xám', 'Đen', 'Đỏ', 'Đồng'                                                                                                                                                                                                                                                                                                                                                                                                                                                                                                                                                                                                                                                                          \n'internal_color'  'Bạc', 'Cam', 'Cát', 'Ghi', 'Hồng', 'Kem', 'Màu khác', 'Nhiều màu', 'Nâu', 'Trắng', 'Tím', 'Vàng', 'Xanh', 'Xám', 'Đen', 'Đỏ', 'Đồng'                                                                                                                                                                                                                                                                                                                                                                                                                                                                                                                                                                                                                                                                          \n'fuels'           'diesel', 'electric', 'gasoline', 'hybrid'                                                                                                                                                                                                                                                                                                                                                                                                                                                                                                                                                                                                                                                                                                                                                                     \n'gearbox'         'Số hỗn hợp', 'automatic', 'manual'                                                                                                                                                                                                                                                                                                                                                                                                                                                                                                                                                                                                                                                                                                                                                                            \n'wheel_drive'     '4WD', 'AWD', 'FWD', 'RWD'                                                                                                                                                                                                                                                                                                                                                                                                                                                                                                                                                                                                                                                                                                                                                                                     \n'car_type'        'convertible', 'coupe', 'crossover', 'hatchback', 'pickup', 'sedan', 'suv', 'truck', 'van', 'wagon'                                                                                                                                                                                                                                                                                                                                                                                                                                                                                                                                                                                                                                                                                                            ",
      "text/html": "<div>\n<style scoped>\n    .dataframe tbody tr th:only-of-type {\n        vertical-align: middle;\n    }\n\n    .dataframe tbody tr th {\n        vertical-align: top;\n    }\n\n    .dataframe thead th {\n        text-align: right;\n    }\n</style>\n<table border=\"1\" class=\"dataframe\">\n  <thead>\n    <tr style=\"text-align: right;\">\n      <th></th>\n      <th>Values</th>\n    </tr>\n    <tr>\n      <th>Domain</th>\n      <th></th>\n    </tr>\n  </thead>\n  <tbody>\n    <tr>\n      <th>'location'</th>\n      <td>'An Giang', 'Bà Rịa Vũng Tàu', 'Bình Dương', 'Bình Phước', 'Bình Thuận', 'Bình Định', 'Bạc Liêu', 'Bắc Giang', 'Bắc Kạn', 'Bắc Ninh', 'Bến Tre', 'Cao Bằng', 'Cà Mau', 'Cần Thơ', 'Gia Lai', 'Hà Giang', 'Hà Nam', 'Hà Nội', 'Hà Tĩnh', 'Hòa Bình', 'Hưng Yên', 'Hải Dương', 'Hải Phòng', 'Hậu Giang', 'Khánh Hòa', 'Kiên Giang', 'Kon Tum', 'Lai Châu', 'Long An', 'Lào Cai', 'Lâm Đồng', 'Lạng Sơn', 'Nam Định', 'Nghệ An', 'Ninh Bình', 'Ninh Thuận', 'Phú Thọ', 'Phú Yên', 'Quảng Bình', 'Quảng Nam', 'Quảng Ngãi', 'Quảng Ninh', 'Quảng Trị', 'Sóc Trăng', 'Sơn La', 'TP HCM', 'Thanh Hóa', 'Thái Bình', 'Thái Nguyên', 'Thừa Thiên Huế', 'Tiền Giang', 'Trà Vinh', 'Tuyên Quang', 'Tây Ninh', 'Vĩnh Long', 'Vĩnh Phúc', 'Yên Bái', 'Điện Biên', 'Đà Nẵng', 'Đăk Lăk', 'Đăk Nông', 'Đồng Nai', 'Đồng Tháp'</td>\n    </tr>\n    <tr>\n      <th>'branch'</th>\n      <td>'Acura', 'Audi', 'BMW', 'Chevrolet', 'Daewoo', 'Ford', 'Honda', 'Hyundai', 'Isuzu', 'Kia', 'LandRover', 'Lexus', 'MG', 'Mazda', 'Mercedes Benz', 'Mini', 'Mitsubishi', 'Nissan', 'Peugeot', 'Porsche', 'Subaru', 'Suzuki', 'Toyota', 'VinFast', 'Volkswagen', 'Volvo'</td>\n    </tr>\n    <tr>\n      <th>'origin'</th>\n      <td>'domestic', 'imported'</td>\n    </tr>\n    <tr>\n      <th>'external_color'</th>\n      <td>'Bạc', 'Cam', 'Cát', 'Ghi', 'Hồng', 'Kem', 'Màu khác', 'Nhiều màu', 'Nâu', 'Trắng', 'Tím', 'Vàng', 'Xanh', 'Xám', 'Đen', 'Đỏ', 'Đồng'</td>\n    </tr>\n    <tr>\n      <th>'internal_color'</th>\n      <td>'Bạc', 'Cam', 'Cát', 'Ghi', 'Hồng', 'Kem', 'Màu khác', 'Nhiều màu', 'Nâu', 'Trắng', 'Tím', 'Vàng', 'Xanh', 'Xám', 'Đen', 'Đỏ', 'Đồng'</td>\n    </tr>\n    <tr>\n      <th>'fuels'</th>\n      <td>'diesel', 'electric', 'gasoline', 'hybrid'</td>\n    </tr>\n    <tr>\n      <th>'gearbox'</th>\n      <td>'Số hỗn hợp', 'automatic', 'manual'</td>\n    </tr>\n    <tr>\n      <th>'wheel_drive'</th>\n      <td>'4WD', 'AWD', 'FWD', 'RWD'</td>\n    </tr>\n    <tr>\n      <th>'car_type'</th>\n      <td>'convertible', 'coupe', 'crossover', 'hatchback', 'pickup', 'sedan', 'suv', 'truck', 'van', 'wagon'</td>\n    </tr>\n  </tbody>\n</table>\n</div>"
     },
     "metadata": {},
     "output_type": "display_data"
    }
   ],
   "source": [
    "tfdv.display_schema(schema)"
   ],
   "metadata": {
    "collapsed": false,
    "pycharm": {
     "name": "#%%\n"
    }
   }
  },
  {
   "cell_type": "code",
   "execution_count": null,
   "outputs": [],
   "source": [],
   "metadata": {
    "collapsed": false,
    "pycharm": {
     "name": "#%%\n"
    }
   }
  }
 ],
 "metadata": {
  "kernelspec": {
   "display_name": "Python 3",
   "language": "python",
   "name": "python3"
  },
  "language_info": {
   "codemirror_mode": {
    "name": "ipython",
    "version": 2
   },
   "file_extension": ".py",
   "mimetype": "text/x-python",
   "name": "python",
   "nbconvert_exporter": "python",
   "pygments_lexer": "ipython2",
   "version": "2.7.6"
  }
 },
 "nbformat": 4,
 "nbformat_minor": 0
}