{
 "cells": [
  {
   "cell_type": "code",
   "execution_count": 5,
   "outputs": [
    {
     "data": {
      "text/plain": "<IPython.core.display.HTML object>",
      "text/html": "Tracking run with wandb version 0.12.17"
     },
     "metadata": {},
     "output_type": "display_data"
    },
    {
     "data": {
      "text/plain": "<IPython.core.display.HTML object>",
      "text/html": "Run data is saved locally in <code>/home/phamvanhanh/PycharmProjects/MLOps-Capstone-Project/wandb/run-20220603_002740-26u5b3tn</code>"
     },
     "metadata": {},
     "output_type": "display_data"
    },
    {
     "data": {
      "text/plain": "<IPython.core.display.HTML object>",
      "text/html": "Syncing run <strong><a href=\"https://wandb.ai/phamvanhanh6720/mlops-test/runs/26u5b3tn\" target=\"_blank\">glorious-bee-1</a></strong> to <a href=\"https://wandb.ai/phamvanhanh6720/mlops-test\" target=\"_blank\">Weights & Biases</a> (<a href=\"https://wandb.me/run\" target=\"_blank\">docs</a>)<br/>"
     },
     "metadata": {},
     "output_type": "display_data"
    },
    {
     "data": {
      "text/plain": "<IPython.core.display.HTML object>",
      "text/html": "Waiting for W&B process to finish... <strong style=\"color:green\">(success).</strong>"
     },
     "metadata": {},
     "output_type": "display_data"
    },
    {
     "data": {
      "text/plain": "VBox(children=(Label(value='8.463 MB of 8.463 MB uploaded (0.000 MB deduped)\\r'), FloatProgress(value=1.0, max…",
      "application/vnd.jupyter.widget-view+json": {
       "version_major": 2,
       "version_minor": 0,
       "model_id": "afaa86db50bb4489835e01a87a290d66"
      }
     },
     "metadata": {},
     "output_type": "display_data"
    },
    {
     "data": {
      "text/plain": "<IPython.core.display.HTML object>",
      "text/html": "Synced <strong style=\"color:#cdcd00\">glorious-bee-1</strong>: <a href=\"https://wandb.ai/phamvanhanh6720/mlops-test/runs/26u5b3tn\" target=\"_blank\">https://wandb.ai/phamvanhanh6720/mlops-test/runs/26u5b3tn</a><br/>Synced 4 W&B file(s), 0 media file(s), 1 artifact file(s) and 0 other file(s)"
     },
     "metadata": {},
     "output_type": "display_data"
    },
    {
     "data": {
      "text/plain": "<IPython.core.display.HTML object>",
      "text/html": "Find logs at: <code>./wandb/run-20220603_002740-26u5b3tn/logs</code>"
     },
     "metadata": {},
     "output_type": "display_data"
    }
   ],
   "source": [
    "# 1. Log a dataset version as an artifact\n",
    "import os\n",
    "import wandb\n",
    "\n",
    "from components.data_extraction import fetch_data\n",
    "# Initialize a new W&B run to track this job\n",
    "run = wandb.init(project=\"mlops-test\", job_type=\"data-extraction\")\n",
    "\n",
    "# Create a sample dataset to log as an artifact\n",
    "df = fetch_data()\n",
    "\n",
    "# log data artifacts\n",
    "dataset_artifact = wandb.Artifact('raw-dataset', type='dataset')\n",
    "dataset_table = wandb.Table(data=df, columns=df.columns)\n",
    "dataset_artifact.add(dataset_table, 'raw-dataset')\n",
    "run.log_artifact(dataset_artifact)\n",
    "\n",
    "wandb.finish()"
   ],
   "metadata": {
    "collapsed": false,
    "pycharm": {
     "name": "#%%\n"
    }
   }
  },
  {
   "cell_type": "code",
   "execution_count": 25,
   "outputs": [
    {
     "data": {
      "text/plain": "<IPython.core.display.HTML object>",
      "text/html": "Tracking run with wandb version 0.12.17"
     },
     "metadata": {},
     "output_type": "display_data"
    },
    {
     "data": {
      "text/plain": "<IPython.core.display.HTML object>",
      "text/html": "Run data is saved locally in <code>/home/phamvanhanh/PycharmProjects/MLOps-Capstone-Project/wandb/run-20220602_234317-1i1ouh1a</code>"
     },
     "metadata": {},
     "output_type": "display_data"
    },
    {
     "data": {
      "text/plain": "<IPython.core.display.HTML object>",
      "text/html": "Syncing run <strong><a href=\"https://wandb.ai/phamvanhanh6720/mlops-test/runs/1i1ouh1a\" target=\"_blank\">sparkling-wildflower-24</a></strong> to <a href=\"https://wandb.ai/phamvanhanh6720/mlops-test\" target=\"_blank\">Weights & Biases</a> (<a href=\"https://wandb.me/run\" target=\"_blank\">docs</a>)<br/>"
     },
     "metadata": {},
     "output_type": "display_data"
    }
   ],
   "source": [
    "run = wandb.init(project=\"mlops-test\", job_type=\"download-data\")\n",
    "\n",
    "# Pull down that dataset you logged in the last run\n",
    "artifact = run.use_artifact('raw-dataset:latest')\n",
    "artifact_dir = artifact"
   ],
   "metadata": {
    "collapsed": false,
    "pycharm": {
     "name": "#%%\n"
    }
   }
  },
  {
   "cell_type": "code",
   "execution_count": 2,
   "outputs": [
    {
     "data": {
      "text/plain": "<IPython.core.display.HTML object>",
      "text/html": "Finishing last run (ID:3ifr6n7o) before initializing another..."
     },
     "metadata": {},
     "output_type": "display_data"
    },
    {
     "data": {
      "text/plain": "<IPython.core.display.HTML object>",
      "text/html": "Waiting for W&B process to finish... <strong style=\"color:green\">(success).</strong>"
     },
     "metadata": {},
     "output_type": "display_data"
    },
    {
     "data": {
      "text/plain": "VBox(children=(Label(value='0.060 MB of 0.060 MB uploaded (0.000 MB deduped)\\r'), FloatProgress(value=1.0, max…",
      "application/vnd.jupyter.widget-view+json": {
       "version_major": 2,
       "version_minor": 0,
       "model_id": "89199b3df6184e6db3ee8a6e5f9fe538"
      }
     },
     "metadata": {},
     "output_type": "display_data"
    },
    {
     "data": {
      "text/plain": "<IPython.core.display.HTML object>",
      "text/html": "Synced <strong style=\"color:#cdcd00\">sandy-glitter-25</strong>: <a href=\"https://wandb.ai/phamvanhanh6720/mlops-test/runs/3ifr6n7o\" target=\"_blank\">https://wandb.ai/phamvanhanh6720/mlops-test/runs/3ifr6n7o</a><br/>Synced 5 W&B file(s), 0 media file(s), 4 artifact file(s) and 0 other file(s)"
     },
     "metadata": {},
     "output_type": "display_data"
    },
    {
     "data": {
      "text/plain": "<IPython.core.display.HTML object>",
      "text/html": "Find logs at: <code>./wandb/run-20220602_235643-3ifr6n7o/logs</code>"
     },
     "metadata": {},
     "output_type": "display_data"
    },
    {
     "data": {
      "text/plain": "<IPython.core.display.HTML object>",
      "text/html": "Successfully finished last run (ID:3ifr6n7o). Initializing new run:<br/>"
     },
     "metadata": {},
     "output_type": "display_data"
    },
    {
     "data": {
      "text/plain": "<IPython.core.display.HTML object>",
      "text/html": "Tracking run with wandb version 0.12.17"
     },
     "metadata": {},
     "output_type": "display_data"
    },
    {
     "data": {
      "text/plain": "<IPython.core.display.HTML object>",
      "text/html": "Run data is saved locally in <code>/home/phamvanhanh/PycharmProjects/MLOps-Capstone-Project/wandb/run-20220602_235845-26rvb93p</code>"
     },
     "metadata": {},
     "output_type": "display_data"
    },
    {
     "data": {
      "text/plain": "<IPython.core.display.HTML object>",
      "text/html": "Syncing run <strong><a href=\"https://wandb.ai/phamvanhanh6720/mlops-test/runs/26rvb93p\" target=\"_blank\">wandering-bird-26</a></strong> to <a href=\"https://wandb.ai/phamvanhanh6720/mlops-test\" target=\"_blank\">Weights & Biases</a> (<a href=\"https://wandb.me/run\" target=\"_blank\">docs</a>)<br/>"
     },
     "metadata": {},
     "output_type": "display_data"
    },
    {
     "data": {
      "text/plain": "<IPython.core.display.HTML object>",
      "text/html": "Waiting for W&B process to finish... <strong style=\"color:green\">(success).</strong>"
     },
     "metadata": {},
     "output_type": "display_data"
    },
    {
     "data": {
      "text/plain": "VBox(children=(Label(value='0.001 MB of 0.002 MB uploaded (0.000 MB deduped)\\r'), FloatProgress(value=0.938248…",
      "application/vnd.jupyter.widget-view+json": {
       "version_major": 2,
       "version_minor": 0,
       "model_id": "99c1d38c4b48475593827fe0dc8d86e4"
      }
     },
     "metadata": {},
     "output_type": "display_data"
    },
    {
     "data": {
      "text/plain": "<IPython.core.display.HTML object>",
      "text/html": "Synced <strong style=\"color:#cdcd00\">wandering-bird-26</strong>: <a href=\"https://wandb.ai/phamvanhanh6720/mlops-test/runs/26rvb93p\" target=\"_blank\">https://wandb.ai/phamvanhanh6720/mlops-test/runs/26rvb93p</a><br/>Synced 4 W&B file(s), 2 media file(s), 1 artifact file(s) and 0 other file(s)"
     },
     "metadata": {},
     "output_type": "display_data"
    },
    {
     "data": {
      "text/plain": "<IPython.core.display.HTML object>",
      "text/html": "Find logs at: <code>./wandb/run-20220602_235845-26rvb93p/logs</code>"
     },
     "metadata": {},
     "output_type": "display_data"
    }
   ],
   "source": [
    "import pandas as pd\n",
    "import warnings\n",
    "warnings.filterwarnings(\"ignore\")\n",
    "import wandb\n",
    "\n",
    "import pkg_resources\n",
    "import importlib\n",
    "importlib.reload(pkg_resources)\n",
    "\n",
    "import tensorflow as tf\n",
    "import tensorflow_data_validation as tfdv\n",
    "from sklearn.model_selection import train_test_split\n",
    "from tensorflow_data_validation.utils.display_util import get_statistics_html\n",
    "\n",
    "run = wandb.init(project=\"mlops-test\", job_type=\"data-validation\")\n",
    "\n",
    "# Pull down that dataset you logged in the last run\n",
    "artifact = run.use_artifact('raw-dataset:latest')\n",
    "artifact_data = artifact.get(\"raw-dataset\")\n",
    "df = pd.DataFrame(columns=artifact_data.columns, data=artifact_data.data)\n",
    "\n",
    "df.drop(['_id', 'title', 'url', 'post_date'], axis=1, inplace=True)\n",
    "train_df, test_df = train_test_split(df, train_size=0.9, shuffle=True, random_state=43, stratify=df['branch'])\n",
    "train_df, val_df = train_test_split(train_df, train_size=0.85, shuffle=True, random_state=43,\n",
    "                                    stratify=train_df['branch'])\n",
    "\n",
    "# generate statistics\n",
    "train_stats = tfdv.generate_statistics_from_dataframe(dataframe=train_df)\n",
    "eva_stats = tfdv.generate_statistics_from_dataframe(dataframe=val_df)\n",
    "serving_stats = tfdv.generate_statistics_from_dataframe(dataframe=test_df)\n",
    "\n",
    "# log statistics\n",
    "file = get_statistics_html(lhs_statistics=eva_stats,\n",
    "                           rhs_statistics=train_stats,\n",
    "                           lhs_name='VAL_DATASET',\n",
    "                           rhs_name='TRAIN_DATASET')\n",
    "artifact = wandb.Artifact('statistic', type='Statistic')\n",
    "html = wandb.Html(data=file)\n",
    "artifact.add(html, 'Statistic')\n",
    "run.log_artifact(artifact)\n",
    "\n",
    "# infer schema\n",
    "schema = tfdv.infer_schema(statistics=train_stats)\n",
    "schema_df_result = tfdv.utils.display_util.get_schema_dataframe(schema=schema)\n",
    "\n",
    "# log schema\n",
    "artifact = wandb.Artifact('categorical-schema', type='Schema')\n",
    "categorical_schema = schema_df_result[1].reset_index()\n",
    "schema_table = wandb.Table(data=categorical_schema, columns=categorical_schema.columns)\n",
    "artifact.add(schema_table, 'categorical-schema-table')\n",
    "run.log_artifact(artifact)\n",
    "\n",
    "artifact = wandb.Artifact('data-schema', type='Schema')\n",
    "data_schema = schema_df_result[0].reset_index()\n",
    "schema_table = wandb.Table(data=data_schema, columns=data_schema.columns)\n",
    "artifact.add(schema_table, 'data-schema-table')\n",
    "run.log_artifact(artifact)\n",
    "\n",
    "# detect anomalies\n",
    "val_anomalies = tfdv.validate_statistics(\n",
    "    statistics=eva_stats,\n",
    "    schema=schema\n",
    ")\n",
    "val_anomalies = tfdv.utils.display_util.get_anomalies_dataframe(val_anomalies).reset_index()\n",
    "\n",
    "serving_anomalies = tfdv.validate_statistics(serving_stats, schema)\n",
    "serving_anomalies = tfdv.utils.display_util.get_anomalies_dataframe(serving_anomalies).reset_index()\n",
    "\n",
    "# log anomalies\n",
    "anomalies_table = wandb.Table(data=val_anomalies, columns=val_anomalies.columns)\n",
    "run.log({\"Val anomalies\": anomalies_table})\n",
    "\n",
    "anomalies_table = wandb.Table(data=serving_anomalies, columns=serving_anomalies.columns)\n",
    "run.log({\"Serving anomalies\": anomalies_table})\n",
    "\n",
    "from sklearn.model_selection import train_test_split\n",
    "wandb.finish()"
   ],
   "metadata": {
    "collapsed": false,
    "pycharm": {
     "name": "#%%\n"
    }
   }
  },
  {
   "cell_type": "code",
   "execution_count": null,
   "outputs": [],
   "source": [],
   "metadata": {
    "collapsed": false,
    "pycharm": {
     "name": "#%%\n"
    }
   }
  }
 ],
 "metadata": {
  "kernelspec": {
   "display_name": "Python 3",
   "language": "python",
   "name": "python3"
  },
  "language_info": {
   "codemirror_mode": {
    "name": "ipython",
    "version": 2
   },
   "file_extension": ".py",
   "mimetype": "text/x-python",
   "name": "python",
   "nbconvert_exporter": "python",
   "pygments_lexer": "ipython2",
   "version": "2.7.6"
  }
 },
 "nbformat": 4,
 "nbformat_minor": 0
}